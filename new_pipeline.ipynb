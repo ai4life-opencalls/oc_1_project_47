{
 "cells": [
  {
   "cell_type": "code",
   "execution_count": 2,
   "metadata": {},
   "outputs": [],
   "source": [
    "import skimage\n",
    "import os\n",
    "from cellpose import models\n",
    "import numpy as np\n",
    "from aicsimageio import AICSImage\n",
    "import tifffile\n",
    "import napari\n",
    "import time\n",
    "import pandas as pd\n",
    "import matplotlib.pyplot as plt\n",
    "from tqdm.notebook import tqdm\n",
    "import apoc\n",
    "from IPython.display import clear_output\n",
    "from scipy.spatial import distance\n",
    "scen_channel = 0\n",
    "marker_channel = 1\n",
    "nuclei_channel = 2\n",
    "\n",
    "#padding to extract around each scenescent cell\n",
    "x_pad = 50\n",
    "y_pad = 50\n",
    "\n",
    "#3D classifier\n",
    "cl3D_filename = 'models/scen_3D.cl'"
   ]
  },
  {
   "cell_type": "code",
   "execution_count": 3,
   "metadata": {},
   "outputs": [],
   "source": [
    "\n",
    "def ExtractSingleObject(image, centroid, x_pad = 50, y_pad = 50):\n",
    "    cy = int(centroid[0])\n",
    "    cx = int(centroid[1])\n",
    "\n",
    "    subset_im = np.copy(image[cy-y_pad:cy+y_pad, cx-x_pad:cx+x_pad])\n",
    "    return subset_im\n",
    "\n",
    "def ExtractSingleObject3D(image, centroid, x_pad = 50, y_pad = 50):\n",
    "    cy = int(centroid[0])\n",
    "    cx = int(centroid[1])\n",
    "    subset_im = np.copy(image[:, cy-y_pad:cy+y_pad, cx-x_pad:cx+x_pad])\n",
    "    return subset_im\n",
    "\n",
    "def filter_classified_image(im, lower_bound, upper_bound):\n",
    "    '''takes a  label image, an upper and lower size bound and returns a labeled image conatining only the objects within that size bound'''\n",
    "    props = skimage.measure.regionprops(im)\n",
    "    for prop in tqdm(props, desc=\"Filtering senescent cell regions\"):\n",
    "        if prop['area'] < (lower_bound):\n",
    "            im[im == prop['label']] = 0\n",
    "        if prop['area'] > (upper_bound):\n",
    "            im[im == prop['label']] = 0\n",
    "\n",
    "    return im\n",
    "\n",
    "def match_nuclei_3D():\n",
    "    print('implement')\n",
    "\n",
    "def MatchNuclei(scen_mask_im, nuc_mask_im):\n",
    "    props_scen = skimage.measure.regionprops(scen_mask_im)\n",
    "    scen_labels_updated = np.copy(scen_mask_im)\n",
    "    scen_labels_matched = np.zeros(scen_mask_im.shape, dtype=np.uint16)\n",
    "    matching_nuclei = np.zeros(nuc_mask_im.shape, dtype=np.uint16)\n",
    "    \n",
    "    for i, prop in enumerate(tqdm(props_scen, desc=\"Matching nuclei to senescent cell masks\")): \n",
    "\n",
    "        num_nuc = 0  #keep track of the number of nuclei per senescent cell\n",
    "        matched_nuc_val = -1   #keep track of the matching nuclear value\n",
    "        \n",
    "        single_scen_im = ExtractSingleObject(scen_mask_im, prop['centroid'])\n",
    "        single_scen_im[single_scen_im != prop['label']] = 0\n",
    "\n",
    "        single_nuc_im = ExtractSingleObject(nuc_mask_im, prop['centroid'])\n",
    "        matched_nuclei = np.copy(single_nuc_im)\n",
    "\n",
    "        matched_nuclei[single_scen_im != prop['label']] = 0\n",
    "        unique, counts = np.unique(matched_nuclei, return_counts=True)\n",
    "        \n",
    "        max_count = 0\n",
    "        max_nuc = -1\n",
    "        for unique, count in zip(unique, counts):\n",
    "            if unique > 0:\n",
    "                if count > max_count:\n",
    "                    max_count = count     \n",
    "                    max_nuc = unique\n",
    "\n",
    "            if max_nuc > -1:\n",
    "                nuc_total_area = np.count_nonzero(nuc_mask_im[nuc_mask_im == max_nuc])\n",
    "                overlap = max_count / nuc_total_area * 100\n",
    "                if overlap > 80:\n",
    "                    matching_nuclei[nuc_mask_im == max_nuc] = max_nuc\n",
    "                    scen_labels_updated[scen_mask_im == prop['label']] = 0\n",
    "                    scen_labels_matched[scen_mask_im == prop['label']] = prop['label']\n",
    "    return matching_nuclei, scen_labels_updated, scen_labels_matched\n",
    "\n",
    "def MakeChullImage(lab_im):\n",
    "    chull_image = np.zeros(lab_im.shape)\n",
    "    props = skimage.measure.regionprops(lab_im)\n",
    "\n",
    "    for prop in tqdm(props, desc=\"Calculating convex hull image\"):\n",
    "        temp = np.zeros(lab_im.shape)\n",
    "        subset_im = ExtractSingleObject(lab_im, prop['centroid'])\n",
    "        subset_im[subset_im != prop['label']] = 0\n",
    "        cy = int(prop['centroid'][0])\n",
    "        cx = int(prop['centroid'][1])\n",
    "        chull = skimage.morphology.convex_hull_image(subset_im)\n",
    "        try:        \n",
    "            temp[cy-150:cy+150, cx-150:cx+150] = chull\n",
    "            chull_image[temp > 0] = prop['label']\n",
    "        except:\n",
    "            print('chull failed')\n",
    "    return chull_image.astype(np.uint16)\n",
    "\n",
    "def find_max_overlap(nuc_mask_subset, clean_scen_labs, min_overlap = 0.2):\n",
    "    '''takes a celpose classified 3D nuclear mask image, and a scenescent label image with a single \n",
    "    label, and finds the corresponding nucleus based on maximum overlap\n",
    "    returns nucleus label, nucleus centroid and overlap amount\n",
    "    '''\n",
    "    nuc_props = skimage.measure.regionprops(nuc_mask_subset)\n",
    "    max_overlap = 0\n",
    "    max_lab = - 1\n",
    "    nuc_centroid = -1\n",
    "    for nuc_prop in nuc_props:\n",
    "        nuc_area = nuc_prop['area']\n",
    "        overlap = np.count_nonzero(clean_scen_labs[nuc_mask_subset == nuc_prop['label']])\n",
    "        if (overlap / nuc_area) > min_overlap:\n",
    "            if overlap > max_overlap:\n",
    "                max_overlap = overlap\n",
    "                max_lab = nuc_prop['label']\n",
    "                nuc_centroid = nuc_prop['centroid']\n",
    "    return max_lab, nuc_centroid, max_overlap\n",
    "\n",
    "\n",
    "def find_scenescent_cell_closest_to_center(scen_subset, min_area, x_pad=x_pad, y_pad=y_pad):\n",
    "    '''takes a scenescent cell classified subset, a miniumum area, and the padding values and returns\n",
    "    an image containing only the label closest to the center'''\n",
    "    labs = skimage.measure.label(scen_subset)\n",
    "    props = skimage.measure.regionprops(labs)\n",
    "    min_dist = 9999\n",
    "    min_prop = -1\n",
    "    for prop in props:\n",
    "        if prop['label'] > 1:       #do not include background lab\n",
    "            if prop['area'] > min_area:\n",
    "                centroid = (prop['centroid'][1], prop['centroid'][2])\n",
    "                dist =  distance.euclidean(centroid, (x_pad,y_pad))\n",
    "                if dist < min_dist:\n",
    "                    min_dist = dist\n",
    "                    min_prop = prop['label']\n",
    "    if min_prop > 0:\n",
    "        labs[labs != min_prop] = 0\n",
    "    return labs\n",
    "\n",
    "def classify_3D_crop(crop, erosion_num, cl3D_filename):\n",
    "    '''takes a 3D crop and applies the 3D classifier\n",
    "    dilates and erodes a set number of times (default = 4)\n",
    "    returns the classified and dilated/eroded image'''\n",
    "\n",
    "    clf = apoc.PixelClassifier(opencl_filename=cl3D_filename)\n",
    "    result = clf.predict(image=crop)\n",
    "\n",
    "    result_eroded = np.copy(result)\n",
    "    for k in range(0, erosion_num):\n",
    "        result_eroded = skimage.morphology.dilation(result_eroded)\n",
    "    for k in range(0, erosion_num):\n",
    "        result_eroded = skimage.morphology.erosion(result_eroded)\n",
    "\n",
    "    return result_eroded\n",
    "\n",
    "def find_matching_nucleus(nuc_centroid, nuc_crops_2D):\n",
    "    nuc_props_2D = skimage.measure.regionprops(nuc_crops_2D)\n",
    "    min_dist = 999999\n",
    "    for prop in nuc_props_2D:\n",
    "        dist =  distance.euclidean((nuc_centroid[1], nuc_centroid[2]), prop['centroid'])\n",
    "        if dist < min_dist:\n",
    "            min_dist = dist\n",
    "            min_prop = prop['label']\n",
    "    return min_prop, min_dist"
   ]
  },
  {
   "cell_type": "code",
   "execution_count": 21,
   "metadata": {},
   "outputs": [],
   "source": [
    "output_folder = 'output'\n",
    "raw_data_folder = os.path.join('..', '..', 'AI4Life - Ana Filipa Pombinho Isidro', 'AI4Life', 'B', 'raw' )\n",
    "files = os.listdir(raw_data_folder)\n",
    "\n"
   ]
  },
  {
   "cell_type": "code",
   "execution_count": null,
   "metadata": {},
   "outputs": [],
   "source": [
    "##replace with labkit segmentation using Nuno's script\n",
    "for file in files:\n",
    "    print('classifying file ' + file)\n",
    "    img = AICSImage(raw_data_folder + os.path.sep + file)\n",
    "    im = img.data[0,:,:,:,:]\n",
    "\n",
    "    im_to_classify = np.amax(im[scen_channel, :, :], axis=0)\n",
    "\n",
    "    cl_filename = 'models/my_model.cl'\n",
    "    clf = apoc.PixelClassifier(opencl_filename=cl_filename)\n",
    "\n",
    "    result = clf.predict(image=im_to_classify)\n",
    "    result_dil = skimage.morphology.erosion(result)\n",
    "    result_dil = skimage.morphology.erosion(result)\n",
    "    result_dil = skimage.morphology.erosion(result)\n",
    "    result_dil = skimage.morphology.dilation(result)\n",
    "\n",
    "    skimage.io.imsave(outout_folder + os.path.sep + '2D_class' + os.path.sep + file[:-4] + '.tif', result_dil, check_contrast=False)"
   ]
  },
  {
   "cell_type": "code",
   "execution_count": null,
   "metadata": {},
   "outputs": [],
   "source": [
    "#cellpose segment\n",
    "for file in files:\n",
    "    print('cellpose segmenting file ' + file)\n",
    "    img = AICSImage(raw_data_folder + os.path.sep + file)\n",
    "    im = img.data[0,:,:,:,:]\n",
    "    im_to_segment = np.amax(im[nuclei_channel, :, :], axis=0)\n",
    "    model = models.Cellpose(model_type='cyto2')\n",
    "    channels = [[0,0]]\n",
    "    nuclear_masks, flows, styles, diams = model.eval(im_to_segment, diameter=20, flow_threshold=None)\n",
    "    skimage.io.imsave(outout_folder + os.path.sep + 'nuclei' + os.path.sep + file[:-4] + '.tif', nuclear_masks, check_contrast=False)"
   ]
  },
  {
   "cell_type": "code",
   "execution_count": null,
   "metadata": {},
   "outputs": [],
   "source": [
    "#TEMP: reload the data\n",
    "filenum = 0\n",
    "filename = files[filenum][:-4]\n",
    "print(\"Loading filename: \" + filename)\n",
    "im = AICSImage(raw_data_folder + os.path.sep + filename + '.czi')\n",
    "raw_im = im.data[0,:,:,:,:]\n",
    "classified_im = skimage.io.imread(outout_folder + os.path.sep + '2D_class' + os.path.sep + 'classified_' + filename + '.tif')\n",
    "nuclei_im = skimage.io.imread(outout_folder + os.path.sep + 'nuclei' + os.path.sep + filename + '.tif')\n",
    "\n"
   ]
  },
  {
   "cell_type": "code",
   "execution_count": 24,
   "metadata": {},
   "outputs": [
    {
     "name": "stdout",
     "output_type": "stream",
     "text": [
      "saving nuclear image\n"
     ]
    },
    {
     "name": "stderr",
     "output_type": "stream",
     "text": [
      "/tmp/ipykernel_7347/640334151.py:79: UserWarning: output/matched_nuclei/Image3_B_nuclei.tif is a low contrast image\n",
      "  skimage.io.imsave('output' + os.path.sep + 'matched_nuclei' + os.path.sep + filename + \"_nuclei.tif\", matching_nuclei)\n",
      "/home/damian.dalle/.conda/envs/testa_pipeline/lib/python3.8/site-packages/numpy/core/fromnumeric.py:3464: RuntimeWarning: Mean of empty slice.\n",
      "  return _methods._mean(a, axis=axis, dtype=dtype,\n",
      "/home/damian.dalle/.conda/envs/testa_pipeline/lib/python3.8/site-packages/numpy/core/_methods.py:192: RuntimeWarning: invalid value encountered in scalar divide\n",
      "  ret = ret.dtype.type(ret / rcount)\n"
     ]
    }
   ],
   "source": [
    "#loop through alll images\n",
    "for filenum in range(0, 1):\n",
    "\n",
    "#for filenum in range(0, len(files)):\n",
    "    clear_output(wait=True)\n",
    "    filename = files[filenum][:-4]\n",
    "    print(\"Loading filename: \" + filename)\n",
    "    im = AICSImage(raw_data_folder + os.path.sep + filename + '.czi')\n",
    "    raw_im = im.data[0,:,:,:,:]\n",
    "    classified_im = skimage.io.imread(output_folder + os.path.sep + '2D_class' + os.path.sep + 'classified_' + filename + '.tif')\n",
    "    nuclei_im = skimage.io.imread(output_folder + os.path.sep + 'nuclei' + os.path.sep + filename + '.tif')\n",
    "\n",
    "    #erode and dilate the classified image\n",
    "    eroded_lab_image = np.copy(classified_im)\n",
    "    dilated = skimage.morphology.erosion(eroded_lab_image)\n",
    "    for i in range(0, 4):\n",
    "        eroded_lab_image = skimage.morphology.erosion(eroded_lab_image)\n",
    "    for i in range(0, 4):\n",
    "        eroded_lab_image = skimage.morphology.dilation(eroded_lab_image)\n",
    "\n",
    "    #filter the classified objects\n",
    "\n",
    "    nuc_labs = skimage.measure.label(nuclei_im)\n",
    "    classified_labs = skimage.measure.label(eroded_lab_image)\n",
    "\n",
    "    #calculate the minimum, mean, and maximum nuclear area\n",
    "    areas = []\n",
    "    all_nuc_props = skimage.measure.regionprops(nuc_labs)\n",
    "    for nuc_prop in tqdm(all_nuc_props, desc=\"Measuring nuclei\"):\n",
    "        areas.append(nuc_prop['area'])\n",
    "    mean_nuc_area = np.mean(areas)\n",
    "    max_nuc_area = np.max(areas)\n",
    "    min_nuc_area = np.min(areas)\n",
    "\n",
    "    filtered_lab_image = filter_classified_image(classified_labs, mean_nuc_area * 2, max_nuc_area * 30)\n",
    "\n",
    "    #extract crops\n",
    "    crops = []\n",
    "    nuc_crops = []\n",
    "    centroids = []\n",
    "    nuc_crops_2D = []\n",
    "\n",
    "    scenescent_props = skimage.measure.regionprops(filtered_lab_image)\n",
    "    for prop in tqdm(scenescent_props):\n",
    "        crop_3D = ExtractSingleObject3D(raw_im[scen_channel,:,:,:], prop['centroid'], x_pad, y_pad)\n",
    "        nuc_crop_3D = ExtractSingleObject3D(raw_im[nuclei_channel,:,:,:], prop['centroid'], x_pad, y_pad)\n",
    "        nuc_crop_2D = ExtractSingleObject(nuclei_im, prop['centroid'], x_pad, y_pad)\n",
    "        centroids.append(prop['centroid'])\n",
    "        crops.append(crop_3D)\n",
    "        nuc_crops.append(nuc_crop_3D)\n",
    "        nuc_crops_2D.append(nuc_crop_2D)\n",
    "    \n",
    "    #loop through all cells in an image\n",
    "    model = models.Cellpose(model_type='cyto2')\n",
    "    matching_nuclei = np.zeros_like(nuclei_im)\n",
    "    for cropnum, single_crop in enumerate(crops):\n",
    "        print(\"running crop \" + str(cropnum+1) + \" of \" + str(len(crops)))\n",
    "        #classify the 3D crop\n",
    "        result_eroded = classify_3D_crop(single_crop, 4, cl3D_filename)\n",
    "        print(\"3D classification done\")\n",
    "        #remove labs not near center\n",
    "        labs = find_scenescent_cell_closest_to_center(result_eroded, 100, x_pad, y_pad)\n",
    "        print(\"cleaned labs\")\n",
    "        #cellpose segment the crops\n",
    "        nuc_mask_subset, flows, styles, diams = model.eval(nuc_crops[cropnum], diameter=20, flow_threshold=None, do_3D=True)\n",
    "        print(\"cellpose segmentation done\")\n",
    "        #find the nucleus with the maxium overlap\n",
    "        max_lab, nuc_centroid, max_overlap = find_max_overlap(nuc_mask_subset, labs)\n",
    "        if max_lab > 0:\n",
    "            print(\"nuclei matched in 3D\")\n",
    "            #find the matching nucleus in the 2D classification\n",
    "            min_prop, min_dist = find_matching_nucleus(nuc_centroid, nuc_crops_2D[cropnum])\n",
    "            matching_nuclei[nuclei_im == min_prop] = min_prop\n",
    "            print(\"nuclei mapped back to 2D\")\n",
    "        else:\n",
    "            print(\"no nuclei matched\")\n",
    "        clear_output(wait=True)\n",
    "    print('saving nuclear image')\n",
    "    skimage.io.imsave('output' + os.path.sep + 'matched_nuclei' + os.path.sep + filename + \"_nuclei.tif\", matching_nuclei)\n",
    "    #measure the nuclei\n",
    "    matched_nuc_props = skimage.measure.regionprops(matching_nuclei)\n",
    "    measurement_im = np.amax(raw_im[1,:,:,:], axis=0)\n",
    "\n",
    "    matched_nuc_labels = []\n",
    "    senescent_instensities = []\n",
    "    non_senescent_intensities = []\n",
    "\n",
    "    for prop in matched_nuc_props:\n",
    "        intensity = np.mean(measurement_im[matching_nuclei == prop['label']])\n",
    "        senescent_instensities.append(intensity)\n",
    "        matched_nuc_labels.append(prop['label'])\n",
    "\n",
    "    for prop in all_nuc_props:\n",
    "        if prop['label'] not in matched_nuc_labels:\n",
    "            intensity = np.mean(measurement_im[nuc_labs == prop['label']])\n",
    "            non_senescent_intensities.append(intensity)"
   ]
  },
  {
   "cell_type": "code",
   "execution_count": 37,
   "metadata": {},
   "outputs": [
    {
     "data": {
      "application/vnd.jupyter.widget-view+json": {
       "model_id": "43525bbf99934cd68a88876a4b704b98",
       "version_major": 2,
       "version_minor": 0
      },
      "text/plain": [
       "  0%|          | 0/19 [00:00<?, ?it/s]"
      ]
     },
     "metadata": {},
     "output_type": "display_data"
    },
    {
     "data": {
      "application/vnd.jupyter.widget-view+json": {
       "model_id": "9a2ffe85f5bf4402a3a6fddea97f9a11",
       "version_major": 2,
       "version_minor": 0
      },
      "text/plain": [
       "  0%|          | 0/5673 [00:00<?, ?it/s]"
      ]
     },
     "metadata": {},
     "output_type": "display_data"
    }
   ],
   "source": [
    "matched_nuc_labels = []\n",
    "senescent_instensities = []\n",
    "non_senescent_intensities = []\n",
    "\n",
    "for prop in tqdm(matched_nuc_props):\n",
    "    intensity = np.mean(measurement_im[matching_nuclei == prop['label']])\n",
    "    senescent_instensities.append(intensity)\n",
    "    matched_nuc_labels.append(prop['label'])\n",
    "\n",
    "for prop in tqdm(all_nuc_props):\n",
    "    if prop['label'] not in matched_nuc_labels:\n",
    "        intensity = np.mean(measurement_im[nuc_labs == prop['label']])\n",
    "        non_senescent_intensities.append(intensity)"
   ]
  },
  {
   "cell_type": "code",
   "execution_count": 42,
   "metadata": {},
   "outputs": [
    {
     "data": {
      "text/plain": [
       "(array([10.,  5.,  2.,  1.,  0.,  0.,  0.,  0.,  0.,  1.]),\n",
       " array([  8.28353659,  19.58094564,  30.87835469,  42.17576375,\n",
       "         53.4731728 ,  64.77058185,  76.06799091,  87.36539996,\n",
       "         98.66280901, 109.96021807, 121.25762712]),\n",
       " <BarContainer object of 10 artists>)"
      ]
     },
     "execution_count": 42,
     "metadata": {},
     "output_type": "execute_result"
    },
    {
     "data": {
      "image/png": "[encoded data removed]",
      "text/plain": [
       "<Figure size 640x480 with 1 Axes>"
      ]
     },
     "metadata": {},
     "output_type": "display_data"
    }
   ],
   "source": [
    "plt.hist(senescent_instensities)"
   ]
  },
  {
   "cell_type": "code",
   "execution_count": 5,
   "metadata": {},
   "outputs": [
    {
     "name": "stdout",
     "output_type": "stream",
     "text": [
      "Loading filename: Image3_B\n"
     ]
    }
   ],
   "source": [
    "for filenum in range(0, 1):\n",
    "\n",
    "#for filenum in range(0, len(files)):\n",
    "    clear_output(wait=True)\n",
    "    filename = files[filenum][:-4]\n",
    "    print(\"Loading filename: \" + filename)\n",
    "    im = AICSImage(raw_data_folder + os.path.sep + filename + '.czi')\n",
    "    raw_im = im.data[0,:,:,:,:]"
   ]
  },
  {
   "cell_type": "code",
   "execution_count": 16,
   "metadata": {},
   "outputs": [
    {
     "ename": "NameError",
     "evalue": "name 'matching_nuclei' is not defined",
     "output_type": "error",
     "traceback": [
      "\u001b[0;31m---------------------------------------------------------------------------\u001b[0m",
      "\u001b[0;31mNameError\u001b[0m                                 Traceback (most recent call last)",
      "Cell \u001b[0;32mIn[16], line 2\u001b[0m\n\u001b[1;32m      1\u001b[0m \u001b[39m#measure the nuclei\u001b[39;00m\n\u001b[0;32m----> 2\u001b[0m matched_nuc_props \u001b[39m=\u001b[39m skimage\u001b[39m.\u001b[39mmeasure\u001b[39m.\u001b[39mregionprops(matching_nuclei)\n\u001b[1;32m      3\u001b[0m measurement_im \u001b[39m=\u001b[39m np\u001b[39m.\u001b[39mamax(raw_im[\u001b[39m1\u001b[39m,:,:,:], axis\u001b[39m=\u001b[39m\u001b[39m0\u001b[39m)\n\u001b[1;32m      5\u001b[0m matched_nuc_labels \u001b[39m=\u001b[39m []\n",
      "\u001b[0;31mNameError\u001b[0m: name 'matching_nuclei' is not defined"
     ]
    }
   ],
   "source": [
    "#measure the nuclei\n",
    "matched_nuc_props = skimage.measure.regionprops(matching_nuclei)\n",
    "measurement_im = np.amax(raw_im[1,:,:,:], axis=0)\n",
    "\n",
    "matched_nuc_labels = []\n",
    "senescent_instensities = []\n",
    "non_senescent_intensities = []\n",
    "\n",
    "for prop in matched_nuc_props:\n",
    "    intensity = np.mean(measurement_im[matched_nuc_props == prop['label']])\n",
    "    senescent_instensities.append(intensity)\n",
    "    matched_nuc_labels.append(prop['label'])\n",
    "\n",
    "for prop in all_nuc_props:\n",
    "    if prop['label'] not in matched_nuc_labels:\n",
    "        intensity = np.mean(measurement_im[nuc_labs == prop['label']])\n",
    "        non_senescent_intensities.append(intensity)\n"
   ]
  },
  {
   "cell_type": "code",
   "execution_count": null,
   "metadata": {},
   "outputs": [],
   "source": [
    "#make overlaid images\n",
    "\n",
    "for i, file in tqdm(enumerate(files)):\n",
    "    \n",
    "    filename = file[:-4]\n",
    "    im = AICSImage(raw_data_folder + os.path.sep + filename + '.czi')\n",
    "    raw_im = im.data[0,:,:,:,:]\n",
    "    classified_im = skimage.io.imread(outout_folder + os.path.sep + '2D_class' + os.path.sep + 'classified_' + filename + '.tif')\n",
    "    nuclei_im = skimage.io.imread(outout_folder + os.path.sep + 'nuclei' + os.path.sep + filename + '.tif')\n",
    "    classified_nuclei = skimage.io.imread(outout_folder + os.path.sep + 'matched_nuclei' + os.path.sep + filename + '_nuclei.tif')\n",
    "    nuc_max = np.amax(raw_im[nuclei_channel,:,:,:], axis=0)\n",
    "    scen_max = np.amax(raw_im[scen_channel,:,:,:], axis=0)\n",
    "    classified_nuclei[classified_nuclei > 0] = 65535\n",
    "\n",
    "    output = np.dstack((scen_max.astype(np.uint8), classified_nuclei.astype(np.uint8), nuc_max.astype(np.uint8)))\n",
    "    #tifffile.imwrite(output_folder + os.path.sep + 'overlay' + os.path.sep + filename + \"_rgb.tif\", data=output, photometric='rgb', imagej=True)\n",
    "    tifffile.imwrite(output_folder + os.path.sep + 'overlay' + os.path.sep + filename + \".tif\", data=output, metadata={'mode': 'composite' 'axes': 'CYX'}, imagej=True)"
   ]
  },
  {
   "cell_type": "code",
   "execution_count": 342,
   "metadata": {},
   "outputs": [
    {
     "name": "stdout",
     "output_type": "stream",
     "text": [
      "Loading filename: Image2_B\n"
     ]
    },
    {
     "data": {
      "text/plain": [
       "<Labels layer 'matched_nuclei' at 0x7fcd2cd0d0a0>"
      ]
     },
     "execution_count": 342,
     "metadata": {},
     "output_type": "execute_result"
    }
   ],
   "source": [
    "#view the images\n",
    "\n",
    "filenum = 5\n",
    "filename = files[filenum][:-4]\n",
    "print(\"Loading filename: \" + filename)\n",
    "\n",
    "im = AICSImage(raw_data_folder + os.path.sep + filename + '.czi')\n",
    "raw_im = im.data[0,:,:,:,:]\n",
    "classified_im = skimage.io.imread(outout_folder + os.path.sep + '2D_class' + os.path.sep + 'classified_' + filename + '.tif')\n",
    "nuclei_im = skimage.io.imread(outout_folder + os.path.sep + 'nuclei' + os.path.sep + filename + '.tif')\n",
    "classified_nuclei = skimage.io.imread(outout_folder + os.path.sep + 'matched_nuclei' + os.path.sep + filename + '_nuclei.tif')\n",
    "\n",
    "viewer = napari.Viewer()\n",
    "viewer.add_image(np.amax(raw_im[nuclei_channel,:,:,:], axis=0), colormap='green', blending='additive', name='nuclei')\n",
    "viewer.add_image(np.amax(raw_im[scen_channel,:,:,:], axis=0), colormap='red', blending='additive', name='scenescent')  \n",
    "viewer.add_labels(classified_im, name='scenescent mask')\n",
    "viewer.add_labels(nuclei_im, name='all_nuclei')\n",
    "viewer.add_labels(classified_nuclei, name='matched_nuclei')\n"
   ]
  },
  {
   "cell_type": "code",
   "execution_count": 307,
   "metadata": {},
   "outputs": [
    {
     "data": {
      "text/plain": [
       "<Labels layer 'nuclei_im' at 0x7fce713de4f0>"
      ]
     },
     "execution_count": 307,
     "metadata": {},
     "output_type": "execute_result"
    }
   ],
   "source": [
    "viewer = napari.Viewer()\n",
    "viewer.add_image(np.amax(raw_im[scen_channel,:,:,:], axis=0))\n",
    "viewer.add_labels(filtered_lab_image)\n",
    "viewer.add_labels(classified_im)\n",
    "viewer.add_labels(matching_nuclei)\n",
    "viewer.add_labels(nuclei_im)\n"
   ]
  }
 ],
 "metadata": {
  "kernelspec": {
   "display_name": "data_analysis",
   "language": "python",
   "name": "python3"
  },
  "language_info": {
   "codemirror_mode": {
    "name": "ipython",
    "version": 3
   },
   "file_extension": ".py",
   "mimetype": "text/x-python",
   "name": "python",
   "nbconvert_exporter": "python",
   "pygments_lexer": "ipython3",
   "version": "3.8.18"
  }
 },
 "nbformat": 4,
 "nbformat_minor": 2
}
