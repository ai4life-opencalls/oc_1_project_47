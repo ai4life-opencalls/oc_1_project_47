{
 "cells": [
  {
   "cell_type": "code",
   "execution_count": 1,
   "metadata": {},
   "outputs": [],
   "source": [
    "import skimage\n",
    "import os\n",
    "from cellpose import models\n",
    "import numpy as np\n",
    "from aicsimageio import AICSImage\n",
    "import napari\n",
    "import pandas as pd\n",
    "import matplotlib.pyplot as plt\n",
    "from tqdm.notebook import tqdm\n",
    "import apoc\n",
    "from IPython.display import clear_output\n",
    "\n",
    "scen_channel = 0\n",
    "marker_channel = 1\n",
    "nuclei_channel = 2"
   ]
  },
  {
   "cell_type": "code",
   "execution_count": 2,
   "metadata": {},
   "outputs": [],
   "source": [
    "\n",
    "def ExtractSingleObject(image, centroid):\n",
    "    cy = int(centroid[0])\n",
    "    cx = int(centroid[1])\n",
    "\n",
    "    subset_im = np.copy(image[cy-150:cy+150, cx-150:cx+150])\n",
    "    return subset_im\n",
    "\n",
    "def ExtractSingleObject3D(image, centroid):\n",
    "    cy = int(centroid[0])\n",
    "    cx = int(centroid[1])\n",
    "    subset_im = np.copy(image[:, cy-150:cy+150, cx-150:cx+150])\n",
    "    return subset_im\n",
    "\n",
    "def filter_classified_image(im, lower_bound, upper_bound):\n",
    "    '''takes a  label image, an upper and lower size bound and returns a labeled image conatining only the objects within that size bound'''\n",
    "    props = skimage.measure.regionprops(im)\n",
    "    for prop in tqdm(props, desc=\"Filtering senescent cell regions\"):\n",
    "        if prop['area'] < (lower_bound):\n",
    "            im[im == prop['label']] = 0\n",
    "        if prop['area'] > (upper_bound):\n",
    "            im[im == prop['label']] = 0\n",
    "\n",
    "    return im\n",
    "\n",
    "def match_nuclei_3D():\n",
    "    print('implement')\n",
    "\n",
    "def MatchNuclei(scen_mask_im, nuc_mask_im):\n",
    "    props_scen = skimage.measure.regionprops(scen_mask_im)\n",
    "    scen_labels_updated = np.copy(scen_mask_im)\n",
    "    scen_labels_matched = np.zeros(scen_mask_im.shape, dtype=np.uint16)\n",
    "    matching_nuclei = np.zeros(nuc_mask_im.shape, dtype=np.uint16)\n",
    "    \n",
    "    for i, prop in enumerate(tqdm(props_scen, desc=\"Matching nuclei to senescent cell masks\")): \n",
    "\n",
    "        num_nuc = 0  #keep track of the number of nuclei per senescent cell\n",
    "        matched_nuc_val = -1   #keep track of the matching nuclear value\n",
    "        \n",
    "        single_scen_im = ExtractSingleObject(scen_mask_im, prop['centroid'])\n",
    "        single_scen_im[single_scen_im != prop['label']] = 0\n",
    "\n",
    "        single_nuc_im = ExtractSingleObject(nuc_mask_im, prop['centroid'])\n",
    "        matched_nuclei = np.copy(single_nuc_im)\n",
    "\n",
    "        matched_nuclei[single_scen_im != prop['label']] = 0\n",
    "        unique, counts = np.unique(matched_nuclei, return_counts=True)\n",
    "        \n",
    "        max_count = 0\n",
    "        max_nuc = -1\n",
    "        for unique, count in zip(unique, counts):\n",
    "            if unique > 0:\n",
    "                if count > max_count:\n",
    "                    max_count = count     \n",
    "                    max_nuc = unique\n",
    "\n",
    "            if max_nuc > -1:\n",
    "                nuc_total_area = np.count_nonzero(nuc_mask_im[nuc_mask_im == max_nuc])\n",
    "                overlap = max_count / nuc_total_area * 100\n",
    "                if overlap > 80:\n",
    "                    matching_nuclei[nuc_mask_im == max_nuc] = max_nuc\n",
    "                    scen_labels_updated[scen_mask_im == prop['label']] = 0\n",
    "                    scen_labels_matched[scen_mask_im == prop['label']] = prop['label']\n",
    "    return matching_nuclei, scen_labels_updated, scen_labels_matched\n",
    "\n",
    "def MakeChullImage(lab_im):\n",
    "    chull_image = np.zeros(lab_im.shape)\n",
    "    props = skimage.measure.regionprops(lab_im)\n",
    "\n",
    "    for prop in tqdm(props, desc=\"Calculating convex hull image\"):\n",
    "        temp = np.zeros(lab_im.shape)\n",
    "        subset_im = ExtractSingleObject(lab_im, prop['centroid'])\n",
    "        subset_im[subset_im != prop['label']] = 0\n",
    "        cy = int(prop['centroid'][0])\n",
    "        cx = int(prop['centroid'][1])\n",
    "        chull = skimage.morphology.convex_hull_image(subset_im)\n",
    "        try:        \n",
    "            temp[cy-150:cy+150, cx-150:cx+150] = chull\n",
    "            chull_image[temp > 0] = prop['label']\n",
    "        except:\n",
    "            print('chull failed')\n",
    "    return chull_image.astype(np.uint16)\n"
   ]
  },
  {
   "cell_type": "code",
   "execution_count": 68,
   "metadata": {},
   "outputs": [],
   "source": [
    "outout_folder = 'output'\n",
    "raw_data_folder = os.path.join('..', '..', 'AI4Life - Ana Filipa Pombinho Isidro', 'AI4Life', 'B', 'raw' )\n",
    "files = os.listdir(raw_data_folder)\n",
    "\n"
   ]
  },
  {
   "cell_type": "code",
   "execution_count": null,
   "metadata": {},
   "outputs": [],
   "source": [
    "##replace with labkit segmentation using Nuno's script\n",
    "for file in files:\n",
    "    print('classifying file ' + file)\n",
    "    img = AICSImage(raw_data_folder + os.path.sep + file)\n",
    "    im = img.data[0,:,:,:,:]\n",
    "\n",
    "    im_to_classify = np.amax(im[scen_channel, :, :], axis=0)\n",
    "\n",
    "    cl_filename = 'models/my_model.cl'\n",
    "    clf = apoc.PixelClassifier(opencl_filename=cl_filename)\n",
    "\n",
    "    result = clf.predict(image=im_to_classify)\n",
    "    result_dil = skimage.morphology.erosion(result)\n",
    "    result_dil = skimage.morphology.erosion(result)\n",
    "    result_dil = skimage.morphology.erosion(result)\n",
    "    result_dil = skimage.morphology.dilation(result)\n",
    "\n",
    "    skimage.io.imsave(outout_folder + os.path.sep + '2D_class' + os.path.sep + file[:-4] + '.tif', result_dil, check_contrast=False)"
   ]
  },
  {
   "cell_type": "code",
   "execution_count": null,
   "metadata": {},
   "outputs": [],
   "source": [
    "#cellpose segment\n",
    "for file in files:\n",
    "    if '3_B' not in file:\n",
    "        print('cellpose segmenting file ' + file)\n",
    "        img = AICSImage(raw_data_folder + os.path.sep + file)\n",
    "        im = img.data[0,:,:,:,:]\n",
    "        im_to_segment = np.amax(im[nuclei_channel, :, :], axis=0)\n",
    "        model = models.Cellpose(model_type='cyto2')\n",
    "        channels = [[0,0]]\n",
    "        nuclear_masks, flows, styles, diams = model.eval(im_to_segment, diameter=20, flow_threshold=None)\n",
    "        skimage.io.imsave(outout_folder + os.path.sep + 'nuclei' + os.path.sep + file[:-4] + '.tif', nuclear_masks, check_contrast=False)"
   ]
  },
  {
   "cell_type": "code",
   "execution_count": 89,
   "metadata": {},
   "outputs": [
    {
     "name": "stdout",
     "output_type": "stream",
     "text": [
      "Loading filename: Image3_B\n"
     ]
    }
   ],
   "source": [
    "#TEMP: reload the data\n",
    "filenum = 0\n",
    "filename = files[filenum][:-4]\n",
    "print(\"Loading filename: \" + filename)\n",
    "im = AICSImage(raw_data_folder + os.path.sep + filename + '.czi')\n",
    "raw_im = im.data[0,:,:,:,:]\n",
    "classified_im = skimage.io.imread(outout_folder + os.path.sep + '2D_class' + os.path.sep + 'classified_' + filename + '.tif')\n",
    "nuclei_im = skimage.io.imread(outout_folder + os.path.sep + 'nuclei' + os.path.sep + filename + '.tif')\n",
    "\n"
   ]
  },
  {
   "cell_type": "code",
   "execution_count": 69,
   "metadata": {},
   "outputs": [
    {
     "name": "stdout",
     "output_type": "stream",
     "text": [
      "Image3_B.czi\n"
     ]
    }
   ],
   "source": [
    "print(files[0])"
   ]
  },
  {
   "cell_type": "code",
   "execution_count": 65,
   "metadata": {},
   "outputs": [
    {
     "data": {
      "text/plain": [
       "(3, 25, 3789, 4710)"
      ]
     },
     "execution_count": 65,
     "metadata": {},
     "output_type": "execute_result"
    }
   ],
   "source": [
    "raw_im.shape"
   ]
  },
  {
   "cell_type": "code",
   "execution_count": 90,
   "metadata": {},
   "outputs": [
    {
     "data": {
      "application/vnd.jupyter.widget-view+json": {
       "model_id": "409d0c1d50c540d79cad2a2a6bdf08db",
       "version_major": 2,
       "version_minor": 0
      },
      "text/plain": [
       "Measuring nuclei:   0%|          | 0/5673 [00:00<?, ?it/s]"
      ]
     },
     "metadata": {},
     "output_type": "display_data"
    },
    {
     "data": {
      "application/vnd.jupyter.widget-view+json": {
       "model_id": "1762d101e11e4190a6c35340f604c36a",
       "version_major": 2,
       "version_minor": 0
      },
      "text/plain": [
       "Filtering senescent cell regions:   0%|          | 0/354 [00:00<?, ?it/s]"
      ]
     },
     "metadata": {},
     "output_type": "display_data"
    }
   ],
   "source": [
    "#filter the classified objects\n",
    "\n",
    "nuc_labs = skimage.measure.label(nuclei_im)\n",
    "classified_labs = skimage.measure.label(classified_im)\n",
    "\n",
    "#calculate the minimum, mean, and maximum nuclear area\n",
    "areas = []\n",
    "nuc_props = skimage.measure.regionprops(nuc_labs)\n",
    "for nuc_prop in tqdm(nuc_props, desc=\"Measuring nuclei\"):\n",
    "    areas.append(nuc_prop['area'])\n",
    "mean_nuc_area = np.mean(areas)\n",
    "max_nuc_area = np.max(areas)\n",
    "min_nuc_area = np.min(areas)\n",
    "\n",
    "filtered_lab_image = filter_classified_image(classified_labs, mean_nuc_area, max_nuc_area * 30)\n",
    "\n",
    "\n"
   ]
  },
  {
   "cell_type": "code",
   "execution_count": 91,
   "metadata": {},
   "outputs": [
    {
     "data": {
      "application/vnd.jupyter.widget-view+json": {
       "model_id": "85bd6dec5b2f429f943e402a7d1d0d7b",
       "version_major": 2,
       "version_minor": 0
      },
      "text/plain": [
       "  0%|          | 0/87 [00:00<?, ?it/s]"
      ]
     },
     "metadata": {},
     "output_type": "display_data"
    }
   ],
   "source": [
    "#loop through and extract 3D volumes around each centroid\n",
    "\n",
    "crops = []\n",
    "centroids = []\n",
    "\n",
    "\n",
    "scenescent_props = skimage.measure.regionprops(filtered_lab_image)\n",
    "for prop in tqdm(scenescent_props):\n",
    "    crop_3D = ExtractSingleObject3D(raw_im[scen_channel,:,:,:], prop['centroid'])\n",
    "    centroids.append(prop['centroid'])\n",
    "    crops.append(crop_3D)\n"
   ]
  },
  {
   "cell_type": "code",
   "execution_count": 92,
   "metadata": {},
   "outputs": [
    {
     "data": {
      "text/plain": [
       "<Labels layer 'classified_im' at 0x7fce29979b20>"
      ]
     },
     "execution_count": 92,
     "metadata": {},
     "output_type": "execute_result"
    }
   ],
   "source": [
    "viewer = napari.Viewer()\n",
    "viewer.add_image(np.amax(raw_im[scen_channel,:,:,:], axis=0))\n",
    "viewer.add_labels(classified_im)"
   ]
  },
  {
   "cell_type": "code",
   "execution_count": 62,
   "metadata": {},
   "outputs": [
    {
     "data": {
      "text/plain": [
       "<matplotlib.image.AxesImage at 0x7fce2d20d610>"
      ]
     },
     "execution_count": 62,
     "metadata": {},
     "output_type": "execute_result"
    },
    {
     "data": {
      "image/png": "[encoded data removed]",
      "text/plain": [
       "<Figure size 640x480 with 1 Axes>"
      ]
     },
     "metadata": {},
     "output_type": "display_data"
    }
   ],
   "source": [
    "plt.imshow(filtered_lab_image)"
   ]
  },
  {
   "cell_type": "code",
   "execution_count": 64,
   "metadata": {},
   "outputs": [
    {
     "name": "stdout",
     "output_type": "stream",
     "text": [
      "(1499.356401384083, 735.1833910034602)\n"
     ]
    },
    {
     "data": {
      "image/png": "[encoded data removed]",
      "text/plain": [
       "<Figure size 640x480 with 2 Axes>"
      ]
     },
     "metadata": {},
     "output_type": "display_data"
    }
   ],
   "source": [
    "num = 2\n",
    "fig, ax = plt.subplots(1,2)\n",
    "ax[0].imshow(np.max(crops[num], axis=0))\n",
    "\n",
    "#centroid = (1912.4072632944228, 1021.325551232166)\n",
    "\n",
    "cy = int(centroids[num][0])\n",
    "cx = int(centroids[num][1])\n",
    "\n",
    "ax[1].imshow(classified_im[cy-150:cy+150, cx-150:cx+150])\n",
    "print(centroids[num])"
   ]
  },
  {
   "cell_type": "code",
   "execution_count": 13,
   "metadata": {},
   "outputs": [
    {
     "data": {
      "text/plain": [
       "<Image layer 'im' at 0x7f8fbb4bad90>"
      ]
     },
     "execution_count": 13,
     "metadata": {},
     "output_type": "execute_result"
    }
   ],
   "source": [
    "viewer = napari.Viewer()\n",
    "viewer.add_image(im)"
   ]
  },
  {
   "cell_type": "code",
   "execution_count": 4,
   "metadata": {},
   "outputs": [
    {
     "ename": "NameError",
     "evalue": "name 'files' is not defined",
     "output_type": "error",
     "traceback": [
      "\u001b[0;31m---------------------------------------------------------------------------\u001b[0m",
      "\u001b[0;31mNameError\u001b[0m                                 Traceback (most recent call last)",
      "Cell \u001b[0;32mIn[4], line 1\u001b[0m\n\u001b[0;32m----> 1\u001b[0m im \u001b[39m=\u001b[39m AICSImage(raw_data_folder \u001b[39m+\u001b[39m os\u001b[39m.\u001b[39mpath\u001b[39m.\u001b[39msep \u001b[39m+\u001b[39m files[\u001b[39m0\u001b[39m])\n",
      "\u001b[0;31mNameError\u001b[0m: name 'files' is not defined"
     ]
    }
   ],
   "source": [
    "im = AICSImage(raw_data_folder + os.path.sep + files[0])"
   ]
  },
  {
   "cell_type": "code",
   "execution_count": 3,
   "metadata": {},
   "outputs": [],
   "source": [
    "path = '../3D_for_apoc/raw/'\n",
    "savepath = '../3D_for_apoc/labs/'\n",
    "ims = os.listdir(path)\n"
   ]
  },
  {
   "cell_type": "code",
   "execution_count": 12,
   "metadata": {},
   "outputs": [],
   "source": [
    "cl_filename = 'scen_3D.cl'\n",
    "\n",
    "clf = apoc.PixelClassifier(opencl_filename=cl_filename)"
   ]
  },
  {
   "cell_type": "code",
   "execution_count": 21,
   "metadata": {},
   "outputs": [
    {
     "data": {
      "text/plain": [
       "<Image layer 'test_im' at 0x1a6f55170a0>"
      ]
     },
     "execution_count": 21,
     "metadata": {},
     "output_type": "execute_result"
    }
   ],
   "source": [
    "viewer.add_image(test_im)"
   ]
  },
  {
   "cell_type": "code",
   "execution_count": 20,
   "metadata": {},
   "outputs": [],
   "source": [
    "test_im = dapi_norm[800:1100, 800:1100]"
   ]
  },
  {
   "cell_type": "code",
   "execution_count": null,
   "metadata": {},
   "outputs": [],
   "source": [
    "#classify an individual file\n",
    "cl_filename = 'my_model.cl'\n",
    "clf = apoc.PixelClassifier(opencl_filename=cl_filename)\n",
    "\n",
    "model = models.Cellpose(model_type='cyto2')\n",
    "channels = [[0,0]]\n",
    "files = os.listdir(raw_data_location)"
   ]
  },
  {
   "cell_type": "code",
   "execution_count": 4,
   "metadata": {},
   "outputs": [
    {
     "name": "stdout",
     "output_type": "stream",
     "text": [
      "Image1_B.czi classified_Image1_B.tif\n",
      "Image2_B.czi classified_Image2_B.tif\n",
      "Image3_B.czi classified_Image3_B.tif\n",
      "Image4_B.czi classified_Image4_B.tif\n",
      "Image5_B.czi classified_Image5_B.tif\n",
      "Image6_B.czi classified_Image6_B.tif\n"
     ]
    }
   ],
   "source": [
    "raw_data_path = os.path.join('..', '..', 'AI4Life - Ana Filipa Pombinho Isidro', 'AI4Life', 'B', 'raw' )\n",
    "classified_images_path = os.path.join('..', 'labkit_segmentation', 'classified')\n",
    "output_data_path =  os.path.join('..', 'output')\n",
    "raw_files = sorted(os.listdir(raw_data_path))\n",
    "classified_files = sorted(os.listdir(classified_images_path))\n",
    "\n",
    "\n",
    "for raw, classified in zip(raw_files, classified_files):\n",
    "    print(raw, classified)\n",
    "\n"
   ]
  },
  {
   "cell_type": "code",
   "execution_count": 5,
   "metadata": {},
   "outputs": [],
   "source": [
    "rawim =  img = AICSImage(raw_data_path + os.path.sep + raw_files[0])"
   ]
  },
  {
   "cell_type": "code",
   "execution_count": 6,
   "metadata": {},
   "outputs": [
    {
     "data": {
      "text/plain": [
       "(1, 3, 25, 3789, 4710)"
      ]
     },
     "execution_count": 6,
     "metadata": {},
     "output_type": "execute_result"
    }
   ],
   "source": [
    "rawim.shape"
   ]
  },
  {
   "cell_type": "code",
   "execution_count": 54,
   "metadata": {},
   "outputs": [],
   "source": [
    "#extract a 3D subset for further classification\n",
    "#also get nuclei\n",
    "\n",
    "##TODO: see how long it takes cellpose to do slice by slice segmentation\n",
    "#looks OK, let's see what it looks like on actual data with a segmented mask! :)\n",
    "\n",
    "\n",
    "#cellpose this one: subset_3D_ch2\n",
    "\n",
    "subset_3D_ch0 = ExtractSingleObject3D(rawim.data[0,0,:,:,:], (2000, 2000))\n",
    "subset_3D_ch1 = ExtractSingleObject3D(rawim.data[0,1,:,:,:], (2000, 2000))\n",
    "subset_3D_ch2 = ExtractSingleObject3D(rawim.data[0,2,:,:,:], (2000, 2000))\n"
   ]
  },
  {
   "cell_type": "code",
   "execution_count": 70,
   "metadata": {},
   "outputs": [
    {
     "data": {
      "application/vnd.jupyter.widget-view+json": {
       "model_id": "3b0fc9ce8d1e44d5b57e6c423178bd21",
       "version_major": 2,
       "version_minor": 0
      },
      "text/plain": [
       "  0%|          | 0/25 [00:00<?, ?it/s]"
      ]
     },
     "metadata": {},
     "output_type": "display_data"
    }
   ],
   "source": [
    "seg2D = []\n",
    "\n",
    "for i in tqdm(range(0, subset_3D_ch2.shape[0])):\n",
    "    nuclear_masks, flows, styles, diams = model.eval(subset_3D_ch2[i,:,:], diameter=20, flow_threshold=None)\n",
    "    seg2D.append(nuclear_masks)"
   ]
  },
  {
   "cell_type": "code",
   "execution_count": 75,
   "metadata": {},
   "outputs": [
    {
     "data": {
      "text/plain": [
       "<matplotlib.image.AxesImage at 0x1a7559dd070>"
      ]
     },
     "execution_count": 75,
     "metadata": {},
     "output_type": "execute_result"
    },
    {
     "data": {
      "image/png": "[encoded data removed]",
      "text/plain": [
       "<Figure size 640x480 with 1 Axes>"
      ]
     },
     "metadata": {},
     "output_type": "display_data"
    }
   ],
   "source": [
    "plt.imshow(seg2D[9])"
   ]
  },
  {
   "cell_type": "code",
   "execution_count": 65,
   "metadata": {},
   "outputs": [],
   "source": [
    "\n",
    "nuclear_masks, flows, styles, diams = model.eval(subset_3D_ch2, diameter=20, flow_threshold=None, do_3D=True)\n",
    "    "
   ]
  },
  {
   "cell_type": "code",
   "execution_count": 64,
   "metadata": {},
   "outputs": [
    {
     "data": {
      "text/plain": [
       "(25, 300)"
      ]
     },
     "execution_count": 64,
     "metadata": {},
     "output_type": "execute_result"
    }
   ],
   "source": [
    "nuclear_masks.shape"
   ]
  },
  {
   "cell_type": "code",
   "execution_count": 66,
   "metadata": {},
   "outputs": [
    {
     "data": {
      "text/plain": [
       "<Labels layer 'nuclear_masks' at 0x1a70e3cd3a0>"
      ]
     },
     "execution_count": 66,
     "metadata": {},
     "output_type": "execute_result"
    }
   ],
   "source": [
    "viewer2 = napari.Viewer()\n",
    "viewer2.add_image(subset_3D_ch0)\n",
    "viewer2.add_image(subset_3D_ch1)\n",
    "viewer2.add_image(subset_3D_ch2)\n",
    "viewer2.add_labels(nuclear_masks)\n"
   ]
  },
  {
   "cell_type": "code",
   "execution_count": 7,
   "metadata": {},
   "outputs": [
    {
     "data": {
      "application/vnd.jupyter.widget-view+json": {
       "model_id": "1e6d0cabc6e2406d8684ebeea72a1f02",
       "version_major": 2,
       "version_minor": 0
      },
      "text/plain": [
       "  0%|          | 0/6 [00:00<?, ?it/s]"
      ]
     },
     "metadata": {},
     "output_type": "display_data"
    },
    {
     "name": "stdout",
     "output_type": "stream",
     "text": [
      "Image5_B.czi\n"
     ]
    },
    {
     "ename": "FileNotFoundError",
     "evalue": "[Errno 2] No such file or directory: '/facility/imganfac/AI4Life/47_senescence/working/output_3D/Image5_B.czi/all_nuclei.tif'",
     "output_type": "error",
     "traceback": [
      "\u001b[0;31m---------------------------------------------------------------------------\u001b[0m",
      "\u001b[0;31mFileNotFoundError\u001b[0m                         Traceback (most recent call last)",
      "\u001b[0;32m/tmp/ipykernel_21226/696692253.py\u001b[0m in \u001b[0;36m?\u001b[0;34m()\u001b[0m\n\u001b[1;32m     17\u001b[0m         \u001b[0mimg\u001b[0m \u001b[0;34m=\u001b[0m \u001b[0mimg\u001b[0m\u001b[0;34m.\u001b[0m\u001b[0mdata\u001b[0m\u001b[0;34m\u001b[0m\u001b[0;34m\u001b[0m\u001b[0m\n\u001b[1;32m     18\u001b[0m         \u001b[0mscen_classified\u001b[0m \u001b[0;34m=\u001b[0m \u001b[0mskimage\u001b[0m\u001b[0;34m.\u001b[0m\u001b[0mio\u001b[0m\u001b[0;34m.\u001b[0m\u001b[0mimread\u001b[0m\u001b[0;34m(\u001b[0m\u001b[0mclassified_images_path\u001b[0m \u001b[0;34m+\u001b[0m \u001b[0mos\u001b[0m\u001b[0;34m.\u001b[0m\u001b[0mpath\u001b[0m\u001b[0;34m.\u001b[0m\u001b[0msep\u001b[0m \u001b[0;34m+\u001b[0m \u001b[0mclassified_files\u001b[0m\u001b[0;34m[\u001b[0m\u001b[0mi\u001b[0m\u001b[0;34m]\u001b[0m\u001b[0;34m)\u001b[0m\u001b[0;34m\u001b[0m\u001b[0;34m\u001b[0m\u001b[0m\n\u001b[1;32m     19\u001b[0m         \u001b[0msum_proj\u001b[0m \u001b[0;34m=\u001b[0m \u001b[0mnp\u001b[0m\u001b[0;34m.\u001b[0m\u001b[0msum\u001b[0m\u001b[0;34m(\u001b[0m\u001b[0mimg\u001b[0m\u001b[0;34m,\u001b[0m \u001b[0maxis\u001b[0m\u001b[0;34m=\u001b[0m\u001b[0;36m2\u001b[0m\u001b[0;34m)\u001b[0m\u001b[0;34m\u001b[0m\u001b[0;34m\u001b[0m\u001b[0m\n\u001b[1;32m     20\u001b[0m         \u001b[0mDAPI\u001b[0m \u001b[0;34m=\u001b[0m \u001b[0msum_proj\u001b[0m\u001b[0;34m[\u001b[0m\u001b[0;36m0\u001b[0m\u001b[0;34m,\u001b[0m\u001b[0;36m2\u001b[0m\u001b[0;34m,\u001b[0m\u001b[0;34m:\u001b[0m\u001b[0;34m,\u001b[0m\u001b[0;34m:\u001b[0m\u001b[0;34m]\u001b[0m\u001b[0;34m\u001b[0m\u001b[0;34m\u001b[0m\u001b[0m\n\u001b[0;32m---> 21\u001b[0;31m         \u001b[0mscen_marker\u001b[0m \u001b[0;34m=\u001b[0m \u001b[0msum_proj\u001b[0m\u001b[0;34m[\u001b[0m\u001b[0;36m0\u001b[0m\u001b[0;34m,\u001b[0m\u001b[0;36m0\u001b[0m\u001b[0;34m,\u001b[0m\u001b[0;34m:\u001b[0m\u001b[0;34m,\u001b[0m\u001b[0;34m:\u001b[0m\u001b[0;34m]\u001b[0m\u001b[0;34m\u001b[0m\u001b[0;34m\u001b[0m\u001b[0m\n\u001b[0m\u001b[1;32m     22\u001b[0m         \u001b[0mdapi_norm\u001b[0m \u001b[0;34m=\u001b[0m \u001b[0;34m(\u001b[0m\u001b[0mDAPI\u001b[0m \u001b[0;34m-\u001b[0m \u001b[0mnp\u001b[0m\u001b[0;34m.\u001b[0m\u001b[0mmin\u001b[0m\u001b[0;34m(\u001b[0m\u001b[0mDAPI\u001b[0m\u001b[0;34m)\u001b[0m\u001b[0;34m)\u001b[0m \u001b[0;34m/\u001b[0m \u001b[0;34m(\u001b[0m\u001b[0mnp\u001b[0m\u001b[0;34m.\u001b[0m\u001b[0mmax\u001b[0m\u001b[0;34m(\u001b[0m\u001b[0mDAPI\u001b[0m\u001b[0;34m)\u001b[0m \u001b[0;34m-\u001b[0m \u001b[0mnp\u001b[0m\u001b[0;34m.\u001b[0m\u001b[0mmin\u001b[0m\u001b[0;34m(\u001b[0m\u001b[0mDAPI\u001b[0m\u001b[0;34m)\u001b[0m\u001b[0;34m)\u001b[0m\u001b[0;34m\u001b[0m\u001b[0;34m\u001b[0m\u001b[0m\n\u001b[1;32m     23\u001b[0m \u001b[0;34m\u001b[0m\u001b[0m\n\u001b[1;32m     24\u001b[0m \u001b[0;34m\u001b[0m\u001b[0m\n",
      "\u001b[0;32m~/.conda/envs/testa_pipeline/lib/python3.8/site-packages/skimage/io/_io.py\u001b[0m in \u001b[0;36m?\u001b[0;34m(fname, as_gray, plugin, **plugin_args)\u001b[0m\n\u001b[1;32m     49\u001b[0m         \u001b[0;32mif\u001b[0m \u001b[0mfname\u001b[0m\u001b[0;34m.\u001b[0m\u001b[0mlower\u001b[0m\u001b[0;34m(\u001b[0m\u001b[0;34m)\u001b[0m\u001b[0;34m.\u001b[0m\u001b[0mendswith\u001b[0m\u001b[0;34m(\u001b[0m\u001b[0;34m(\u001b[0m\u001b[0;34m'.tiff'\u001b[0m\u001b[0;34m,\u001b[0m \u001b[0;34m'.tif'\u001b[0m\u001b[0;34m)\u001b[0m\u001b[0;34m)\u001b[0m\u001b[0;34m:\u001b[0m\u001b[0;34m\u001b[0m\u001b[0;34m\u001b[0m\u001b[0m\n\u001b[1;32m     50\u001b[0m             \u001b[0mplugin\u001b[0m \u001b[0;34m=\u001b[0m \u001b[0;34m'tifffile'\u001b[0m\u001b[0;34m\u001b[0m\u001b[0;34m\u001b[0m\u001b[0m\n\u001b[1;32m     51\u001b[0m \u001b[0;34m\u001b[0m\u001b[0m\n\u001b[1;32m     52\u001b[0m     \u001b[0;32mwith\u001b[0m \u001b[0mfile_or_url_context\u001b[0m\u001b[0;34m(\u001b[0m\u001b[0mfname\u001b[0m\u001b[0;34m)\u001b[0m \u001b[0;32mas\u001b[0m \u001b[0mfname\u001b[0m\u001b[0;34m:\u001b[0m\u001b[0;34m\u001b[0m\u001b[0;34m\u001b[0m\u001b[0m\n\u001b[0;32m---> 53\u001b[0;31m         \u001b[0mimg\u001b[0m \u001b[0;34m=\u001b[0m \u001b[0mcall_plugin\u001b[0m\u001b[0;34m(\u001b[0m\u001b[0;34m'imread'\u001b[0m\u001b[0;34m,\u001b[0m \u001b[0mfname\u001b[0m\u001b[0;34m,\u001b[0m \u001b[0mplugin\u001b[0m\u001b[0;34m=\u001b[0m\u001b[0mplugin\u001b[0m\u001b[0;34m,\u001b[0m \u001b[0;34m**\u001b[0m\u001b[0mplugin_args\u001b[0m\u001b[0;34m)\u001b[0m\u001b[0;34m\u001b[0m\u001b[0;34m\u001b[0m\u001b[0m\n\u001b[0m\u001b[1;32m     54\u001b[0m \u001b[0;34m\u001b[0m\u001b[0m\n\u001b[1;32m     55\u001b[0m     \u001b[0;32mif\u001b[0m \u001b[0;32mnot\u001b[0m \u001b[0mhasattr\u001b[0m\u001b[0;34m(\u001b[0m\u001b[0mimg\u001b[0m\u001b[0;34m,\u001b[0m \u001b[0;34m'ndim'\u001b[0m\u001b[0;34m)\u001b[0m\u001b[0;34m:\u001b[0m\u001b[0;34m\u001b[0m\u001b[0;34m\u001b[0m\u001b[0m\n\u001b[1;32m     56\u001b[0m         \u001b[0;32mreturn\u001b[0m \u001b[0mimg\u001b[0m\u001b[0;34m\u001b[0m\u001b[0;34m\u001b[0m\u001b[0m\n",
      "\u001b[0;32m~/.conda/envs/testa_pipeline/lib/python3.8/site-packages/skimage/io/manage_plugins.py\u001b[0m in \u001b[0;36m?\u001b[0;34m(kind, *args, **kwargs)\u001b[0m\n\u001b[1;32m    201\u001b[0m             \u001b[0mfunc\u001b[0m \u001b[0;34m=\u001b[0m \u001b[0;34m[\u001b[0m\u001b[0mf\u001b[0m \u001b[0;32mfor\u001b[0m \u001b[0;34m(\u001b[0m\u001b[0mp\u001b[0m\u001b[0;34m,\u001b[0m \u001b[0mf\u001b[0m\u001b[0;34m)\u001b[0m \u001b[0;32min\u001b[0m \u001b[0mplugin_funcs\u001b[0m \u001b[0;32mif\u001b[0m \u001b[0mp\u001b[0m \u001b[0;34m==\u001b[0m \u001b[0mplugin\u001b[0m\u001b[0;34m]\u001b[0m\u001b[0;34m[\u001b[0m\u001b[0;36m0\u001b[0m\u001b[0;34m]\u001b[0m\u001b[0;34m\u001b[0m\u001b[0;34m\u001b[0m\u001b[0m\n\u001b[1;32m    202\u001b[0m         \u001b[0;32mexcept\u001b[0m \u001b[0mIndexError\u001b[0m\u001b[0;34m:\u001b[0m\u001b[0;34m\u001b[0m\u001b[0;34m\u001b[0m\u001b[0m\n\u001b[1;32m    203\u001b[0m             \u001b[0;32mraise\u001b[0m \u001b[0mRuntimeError\u001b[0m\u001b[0;34m(\u001b[0m\u001b[0;34mf'Could not find the plugin \"{plugin}\" for {kind}.'\u001b[0m\u001b[0;34m)\u001b[0m\u001b[0;34m\u001b[0m\u001b[0;34m\u001b[0m\u001b[0m\n\u001b[1;32m    204\u001b[0m \u001b[0;34m\u001b[0m\u001b[0m\n\u001b[0;32m--> 205\u001b[0;31m     \u001b[0;32mreturn\u001b[0m \u001b[0mfunc\u001b[0m\u001b[0;34m(\u001b[0m\u001b[0;34m*\u001b[0m\u001b[0margs\u001b[0m\u001b[0;34m,\u001b[0m \u001b[0;34m**\u001b[0m\u001b[0mkwargs\u001b[0m\u001b[0;34m)\u001b[0m\u001b[0;34m\u001b[0m\u001b[0;34m\u001b[0m\u001b[0m\n\u001b[0m",
      "\u001b[0;32m~/.conda/envs/testa_pipeline/lib/python3.8/site-packages/skimage/io/_plugins/tifffile_plugin.py\u001b[0m in \u001b[0;36m?\u001b[0;34m(fname, **kwargs)\u001b[0m\n\u001b[1;32m     70\u001b[0m     \"\"\"\n\u001b[1;32m     71\u001b[0m     \u001b[0;32mif\u001b[0m \u001b[0;34m'img_num'\u001b[0m \u001b[0;32min\u001b[0m \u001b[0mkwargs\u001b[0m\u001b[0;34m:\u001b[0m\u001b[0;34m\u001b[0m\u001b[0;34m\u001b[0m\u001b[0m\n\u001b[1;32m     72\u001b[0m         \u001b[0mkwargs\u001b[0m\u001b[0;34m[\u001b[0m\u001b[0;34m'key'\u001b[0m\u001b[0;34m]\u001b[0m \u001b[0;34m=\u001b[0m \u001b[0mkwargs\u001b[0m\u001b[0;34m.\u001b[0m\u001b[0mpop\u001b[0m\u001b[0;34m(\u001b[0m\u001b[0;34m'img_num'\u001b[0m\u001b[0;34m)\u001b[0m\u001b[0;34m\u001b[0m\u001b[0;34m\u001b[0m\u001b[0m\n\u001b[1;32m     73\u001b[0m \u001b[0;34m\u001b[0m\u001b[0m\n\u001b[0;32m---> 74\u001b[0;31m     \u001b[0;32mreturn\u001b[0m \u001b[0mtifffile_imread\u001b[0m\u001b[0;34m(\u001b[0m\u001b[0mfname\u001b[0m\u001b[0;34m,\u001b[0m \u001b[0;34m**\u001b[0m\u001b[0mkwargs\u001b[0m\u001b[0;34m)\u001b[0m\u001b[0;34m\u001b[0m\u001b[0;34m\u001b[0m\u001b[0m\n\u001b[0m",
      "\u001b[0;32m~/.conda/envs/testa_pipeline/lib/python3.8/site-packages/tifffile/tifffile.py\u001b[0m in \u001b[0;36m?\u001b[0;34m(files, aszarr, key, series, level, squeeze, maxworkers, mode, name, offset, size, pattern, axesorder, categories, imread, sort, container, chunkshape, dtype, axestiled, ioworkers, chunkmode, fillvalue, zattrs, multiscales, omexml, out, out_inplace, _multifile, _useframes, **kwargs)\u001b[0m\n\u001b[1;32m   1036\u001b[0m \u001b[0;34m\u001b[0m\u001b[0m\n\u001b[1;32m   1037\u001b[0m         if isinstance(files, str) or not isinstance(\n\u001b[1;32m   1038\u001b[0m             \u001b[0mfiles\u001b[0m\u001b[0;34m,\u001b[0m \u001b[0mcollections\u001b[0m\u001b[0;34m.\u001b[0m\u001b[0mabc\u001b[0m\u001b[0;34m.\u001b[0m\u001b[0mSequence\u001b[0m\u001b[0;34m\u001b[0m\u001b[0;34m\u001b[0m\u001b[0m\n\u001b[1;32m   1039\u001b[0m         ):\n\u001b[0;32m-> 1040\u001b[0;31m             with TiffFile(\n\u001b[0m\u001b[1;32m   1041\u001b[0m                 \u001b[0mfiles\u001b[0m\u001b[0;34m,\u001b[0m\u001b[0;34m\u001b[0m\u001b[0;34m\u001b[0m\u001b[0m\n\u001b[1;32m   1042\u001b[0m                 \u001b[0mmode\u001b[0m\u001b[0;34m=\u001b[0m\u001b[0mmode\u001b[0m\u001b[0;34m,\u001b[0m\u001b[0;34m\u001b[0m\u001b[0;34m\u001b[0m\u001b[0m\n\u001b[1;32m   1043\u001b[0m                 \u001b[0mname\u001b[0m\u001b[0;34m=\u001b[0m\u001b[0mname\u001b[0m\u001b[0;34m,\u001b[0m\u001b[0;34m\u001b[0m\u001b[0;34m\u001b[0m\u001b[0m\n",
      "\u001b[0;32m~/.conda/envs/testa_pipeline/lib/python3.8/site-packages/tifffile/tifffile.py\u001b[0m in \u001b[0;36m?\u001b[0;34m(self, file, mode, name, offset, size, omexml, _multifile, _useframes, _parent, **is_flags)\u001b[0m\n\u001b[1;32m   3929\u001b[0m \u001b[0;34m\u001b[0m\u001b[0m\n\u001b[1;32m   3930\u001b[0m         \u001b[0;32mif\u001b[0m \u001b[0mmode\u001b[0m \u001b[0;32mnot\u001b[0m \u001b[0;32min\u001b[0m \u001b[0;34m(\u001b[0m\u001b[0;32mNone\u001b[0m\u001b[0;34m,\u001b[0m \u001b[0;34m'r'\u001b[0m\u001b[0;34m,\u001b[0m \u001b[0;34m'r+'\u001b[0m\u001b[0;34m,\u001b[0m \u001b[0;34m'rb'\u001b[0m\u001b[0;34m,\u001b[0m \u001b[0;34m'r+b'\u001b[0m\u001b[0;34m)\u001b[0m\u001b[0;34m:\u001b[0m\u001b[0;34m\u001b[0m\u001b[0;34m\u001b[0m\u001b[0m\n\u001b[1;32m   3931\u001b[0m             \u001b[0;32mraise\u001b[0m \u001b[0mValueError\u001b[0m\u001b[0;34m(\u001b[0m\u001b[0;34mf'invalid mode {mode!r}'\u001b[0m\u001b[0;34m)\u001b[0m\u001b[0;34m\u001b[0m\u001b[0;34m\u001b[0m\u001b[0m\n\u001b[1;32m   3932\u001b[0m \u001b[0;34m\u001b[0m\u001b[0m\n\u001b[0;32m-> 3933\u001b[0;31m         \u001b[0mfh\u001b[0m \u001b[0;34m=\u001b[0m \u001b[0mFileHandle\u001b[0m\u001b[0;34m(\u001b[0m\u001b[0mfile\u001b[0m\u001b[0;34m,\u001b[0m \u001b[0mmode\u001b[0m\u001b[0;34m=\u001b[0m\u001b[0mmode\u001b[0m\u001b[0;34m,\u001b[0m \u001b[0mname\u001b[0m\u001b[0;34m=\u001b[0m\u001b[0mname\u001b[0m\u001b[0;34m,\u001b[0m \u001b[0moffset\u001b[0m\u001b[0;34m=\u001b[0m\u001b[0moffset\u001b[0m\u001b[0;34m,\u001b[0m \u001b[0msize\u001b[0m\u001b[0;34m=\u001b[0m\u001b[0msize\u001b[0m\u001b[0;34m)\u001b[0m\u001b[0;34m\u001b[0m\u001b[0;34m\u001b[0m\u001b[0m\n\u001b[0m\u001b[1;32m   3934\u001b[0m         \u001b[0mself\u001b[0m\u001b[0;34m.\u001b[0m\u001b[0m_fh\u001b[0m \u001b[0;34m=\u001b[0m \u001b[0mfh\u001b[0m\u001b[0;34m\u001b[0m\u001b[0;34m\u001b[0m\u001b[0m\n\u001b[1;32m   3935\u001b[0m         \u001b[0mself\u001b[0m\u001b[0;34m.\u001b[0m\u001b[0m_multifile\u001b[0m \u001b[0;34m=\u001b[0m \u001b[0;32mTrue\u001b[0m \u001b[0;32mif\u001b[0m \u001b[0m_multifile\u001b[0m \u001b[0;32mis\u001b[0m \u001b[0;32mNone\u001b[0m \u001b[0;32melse\u001b[0m \u001b[0mbool\u001b[0m\u001b[0;34m(\u001b[0m\u001b[0m_multifile\u001b[0m\u001b[0;34m)\u001b[0m\u001b[0;34m\u001b[0m\u001b[0;34m\u001b[0m\u001b[0m\n\u001b[1;32m   3936\u001b[0m         \u001b[0mself\u001b[0m\u001b[0;34m.\u001b[0m\u001b[0m_files\u001b[0m \u001b[0;34m=\u001b[0m \u001b[0;34m{\u001b[0m\u001b[0mfh\u001b[0m\u001b[0;34m.\u001b[0m\u001b[0mname\u001b[0m\u001b[0;34m:\u001b[0m \u001b[0mself\u001b[0m\u001b[0;34m}\u001b[0m\u001b[0;34m\u001b[0m\u001b[0;34m\u001b[0m\u001b[0m\n",
      "\u001b[0;32m~/.conda/envs/testa_pipeline/lib/python3.8/site-packages/tifffile/tifffile.py\u001b[0m in \u001b[0;36m?\u001b[0;34m(self, file, mode, name, offset, size)\u001b[0m\n\u001b[1;32m  13631\u001b[0m         \u001b[0mself\u001b[0m\u001b[0;34m.\u001b[0m\u001b[0m_offset\u001b[0m \u001b[0;34m=\u001b[0m \u001b[0;34m-\u001b[0m\u001b[0;36m1\u001b[0m \u001b[0;32mif\u001b[0m \u001b[0moffset\u001b[0m \u001b[0;32mis\u001b[0m \u001b[0;32mNone\u001b[0m \u001b[0;32melse\u001b[0m \u001b[0moffset\u001b[0m\u001b[0;34m\u001b[0m\u001b[0;34m\u001b[0m\u001b[0m\n\u001b[1;32m  13632\u001b[0m         \u001b[0mself\u001b[0m\u001b[0;34m.\u001b[0m\u001b[0m_size\u001b[0m \u001b[0;34m=\u001b[0m \u001b[0;34m-\u001b[0m\u001b[0;36m1\u001b[0m \u001b[0;32mif\u001b[0m \u001b[0msize\u001b[0m \u001b[0;32mis\u001b[0m \u001b[0;32mNone\u001b[0m \u001b[0;32melse\u001b[0m \u001b[0msize\u001b[0m\u001b[0;34m\u001b[0m\u001b[0;34m\u001b[0m\u001b[0m\n\u001b[1;32m  13633\u001b[0m         \u001b[0mself\u001b[0m\u001b[0;34m.\u001b[0m\u001b[0m_close\u001b[0m \u001b[0;34m=\u001b[0m \u001b[0;32mTrue\u001b[0m\u001b[0;34m\u001b[0m\u001b[0;34m\u001b[0m\u001b[0m\n\u001b[1;32m  13634\u001b[0m         \u001b[0mself\u001b[0m\u001b[0;34m.\u001b[0m\u001b[0m_lock\u001b[0m \u001b[0;34m=\u001b[0m \u001b[0mNullContext\u001b[0m\u001b[0;34m(\u001b[0m\u001b[0;34m)\u001b[0m\u001b[0;34m\u001b[0m\u001b[0;34m\u001b[0m\u001b[0m\n\u001b[0;32m> 13635\u001b[0;31m         \u001b[0mself\u001b[0m\u001b[0;34m.\u001b[0m\u001b[0mopen\u001b[0m\u001b[0;34m(\u001b[0m\u001b[0;34m)\u001b[0m\u001b[0;34m\u001b[0m\u001b[0;34m\u001b[0m\u001b[0m\n\u001b[0m\u001b[1;32m  13636\u001b[0m         \u001b[0;32massert\u001b[0m \u001b[0mself\u001b[0m\u001b[0;34m.\u001b[0m\u001b[0m_fh\u001b[0m \u001b[0;32mis\u001b[0m \u001b[0;32mnot\u001b[0m \u001b[0;32mNone\u001b[0m\u001b[0;34m\u001b[0m\u001b[0;34m\u001b[0m\u001b[0m\n",
      "\u001b[0;32m~/.conda/envs/testa_pipeline/lib/python3.8/site-packages/tifffile/tifffile.py\u001b[0m in \u001b[0;36m?\u001b[0;34m(self)\u001b[0m\n\u001b[1;32m  13646\u001b[0m         \u001b[0;32mif\u001b[0m \u001b[0misinstance\u001b[0m\u001b[0;34m(\u001b[0m\u001b[0mself\u001b[0m\u001b[0;34m.\u001b[0m\u001b[0m_file\u001b[0m\u001b[0;34m,\u001b[0m \u001b[0mstr\u001b[0m\u001b[0;34m)\u001b[0m\u001b[0;34m:\u001b[0m\u001b[0;34m\u001b[0m\u001b[0;34m\u001b[0m\u001b[0m\n\u001b[1;32m  13647\u001b[0m             \u001b[0;31m# file name\u001b[0m\u001b[0;34m\u001b[0m\u001b[0;34m\u001b[0m\u001b[0;34m\u001b[0m\u001b[0m\n\u001b[1;32m  13648\u001b[0m             \u001b[0mself\u001b[0m\u001b[0;34m.\u001b[0m\u001b[0m_file\u001b[0m \u001b[0;34m=\u001b[0m \u001b[0mos\u001b[0m\u001b[0;34m.\u001b[0m\u001b[0mpath\u001b[0m\u001b[0;34m.\u001b[0m\u001b[0mrealpath\u001b[0m\u001b[0;34m(\u001b[0m\u001b[0mself\u001b[0m\u001b[0;34m.\u001b[0m\u001b[0m_file\u001b[0m\u001b[0;34m)\u001b[0m\u001b[0;34m\u001b[0m\u001b[0;34m\u001b[0m\u001b[0m\n\u001b[1;32m  13649\u001b[0m             \u001b[0mself\u001b[0m\u001b[0;34m.\u001b[0m\u001b[0m_dir\u001b[0m\u001b[0;34m,\u001b[0m \u001b[0mself\u001b[0m\u001b[0;34m.\u001b[0m\u001b[0m_name\u001b[0m \u001b[0;34m=\u001b[0m \u001b[0mos\u001b[0m\u001b[0;34m.\u001b[0m\u001b[0mpath\u001b[0m\u001b[0;34m.\u001b[0m\u001b[0msplit\u001b[0m\u001b[0;34m(\u001b[0m\u001b[0mself\u001b[0m\u001b[0;34m.\u001b[0m\u001b[0m_file\u001b[0m\u001b[0;34m)\u001b[0m\u001b[0;34m\u001b[0m\u001b[0;34m\u001b[0m\u001b[0m\n\u001b[0;32m> 13650\u001b[0;31m             \u001b[0mself\u001b[0m\u001b[0;34m.\u001b[0m\u001b[0m_fh\u001b[0m \u001b[0;34m=\u001b[0m \u001b[0mopen\u001b[0m\u001b[0;34m(\u001b[0m\u001b[0mself\u001b[0m\u001b[0;34m.\u001b[0m\u001b[0m_file\u001b[0m\u001b[0;34m,\u001b[0m \u001b[0mself\u001b[0m\u001b[0;34m.\u001b[0m\u001b[0m_mode\u001b[0m\u001b[0;34m)\u001b[0m  \u001b[0;31m# type: ignore\u001b[0m\u001b[0;34m\u001b[0m\u001b[0;34m\u001b[0m\u001b[0m\n\u001b[0m\u001b[1;32m  13651\u001b[0m             \u001b[0mself\u001b[0m\u001b[0;34m.\u001b[0m\u001b[0m_close\u001b[0m \u001b[0;34m=\u001b[0m \u001b[0;32mTrue\u001b[0m\u001b[0;34m\u001b[0m\u001b[0;34m\u001b[0m\u001b[0m\n\u001b[1;32m  13652\u001b[0m             \u001b[0;32mif\u001b[0m \u001b[0mself\u001b[0m\u001b[0;34m.\u001b[0m\u001b[0m_offset\u001b[0m \u001b[0;34m<\u001b[0m \u001b[0;36m0\u001b[0m\u001b[0;34m:\u001b[0m\u001b[0;34m\u001b[0m\u001b[0;34m\u001b[0m\u001b[0m\n\u001b[1;32m  13653\u001b[0m                 \u001b[0mself\u001b[0m\u001b[0;34m.\u001b[0m\u001b[0m_offset\u001b[0m \u001b[0;34m=\u001b[0m \u001b[0;36m0\u001b[0m\u001b[0;34m\u001b[0m\u001b[0;34m\u001b[0m\u001b[0m\n",
      "\u001b[0;31mFileNotFoundError\u001b[0m: [Errno 2] No such file or directory: '/facility/imganfac/AI4Life/47_senescence/working/output_3D/Image5_B.czi/all_nuclei.tif'"
     ]
    }
   ],
   "source": [
    "model = models.Cellpose(model_type='cyto2')\n",
    "channels = [[0,0]]\n",
    "\n",
    "\n",
    "output_data_path =  os.path.join('..', 'output_3D')\n",
    "\n",
    "for i, file in enumerate(tqdm(raw_files)):\n",
    "    if i == 4:\n",
    "        print(file)\n",
    "        img = AICSImage(raw_data_path + os.path.sep + file)\n",
    "        img = img.data\n",
    "        scen_classified = skimage.io.imread(classified_images_path + os.path.sep + classified_files[i])\n",
    "        sum_proj = np.sum(img, axis=2)\n",
    "        DAPI = sum_proj[0,2,:,:]\n",
    "        scen_marker = sum_proj[0,0,:,:]\n",
    "        dapi_norm = (DAPI - np.min(DAPI)) / (np.max(DAPI) - np.min(DAPI))\n",
    "\n",
    "\n",
    "        #load instead\n",
    "        #nuclear_masks, flows, styles, diams = model.eval(dapi_norm, diameter=20, flow_threshold=None, channels=channels)\n",
    "        nuclear_masks = skimage.io.imread(output_data_path + os.path.sep + file + os.path.sep + 'all_nuclei.tif')\n",
    "\n",
    "        props = skimage.measure.regionprops(nuclear_masks)\n",
    "\n",
    "        areas = []\n",
    "        for prop in tqdm(props, desc=\"Measuring nuclei\"):\n",
    "            areas.append(prop['area'])\n",
    "\n",
    "        mean_nuc_area = np.mean(areas)\n",
    "        max_nuc_area = np.max(areas)\n",
    "        min_nuc_area = np.min(areas)\n",
    "\n",
    "        labs = skimage.measure.label(scen_classified)\n",
    "\n",
    "        labs_filtered = np.copy(labs)\n",
    "        props = skimage.measure.regionprops(labs)\n",
    "\n",
    "        for prop in tqdm(props, desc=\"Filtering senescent cell regions\"):\n",
    "            if prop['area'] < (mean_nuc_area):\n",
    "                labs_filtered[labs_filtered == prop['label']] = 0\n",
    "            if prop['area'] > (mean_nuc_area*30):\n",
    "                labs_filtered[labs_filtered == prop['label']] = 0\n",
    "\n",
    "        matching_nuclei, scen_labels_updated, scen_labels_matched = MatchNuclei(labs_filtered, nuclear_masks)\n",
    "        chull_im = MakeChullImage(scen_labels_updated)\n",
    "\n",
    "        matching_nuclei_chull, scen_labels_updated_chull, scen_labels_matched_chull = MatchNuclei(chull_im, nuclear_masks)\n",
    "\n",
    "\n",
    "        all_matched_nuclei = np.zeros(labs_filtered.shape, dtype=np.uint16)\n",
    "        props = skimage.measure.regionprops(matching_nuclei)\n",
    "        for prop in tqdm(props):\n",
    "            all_matched_nuclei[matching_nuclei == prop['label']] = prop['label']\n",
    "        props = skimage.measure.regionprops(matching_nuclei_chull)\n",
    "        for prop in tqdm(props):\n",
    "            all_matched_nuclei[matching_nuclei_chull == prop['label']] = prop['label']\n",
    "\n",
    "        nuc_bin = np.zeros(all_matched_nuclei.shape, dtype=np.uint16)\n",
    "        nuc_bin[all_matched_nuclei > 0 ] = 100\n",
    "        all_nuc_bin = np.zeros(all_matched_nuclei.shape, dtype=np.uint16)\n",
    "        all_nuc_bin[nuclear_masks > 0 ] = 100\n",
    "\n",
    "        os.makedirs(output_data_path + os.path.sep + file)\n",
    "\n",
    "        skimage.io.imsave(output_data_path + os.path.sep + file + os.path.sep + 'all_matched_nuclei.tif', nuc_bin)\n",
    "        skimage.io.imsave(output_data_path + os.path.sep + file + os.path.sep + 'scen_marker.tif', scen_marker.astype(np.uint16))\n",
    "        skimage.io.imsave(output_data_path + os.path.sep + file + os.path.sep + 'all_nuclei.tif', all_nuc_bin)\n",
    "        clear_output(wait=True)"
   ]
  },
  {
   "cell_type": "code",
   "execution_count": 67,
   "metadata": {},
   "outputs": [
    {
     "data": {
      "text/plain": [
       "(3788, 4710)"
      ]
     },
     "execution_count": 67,
     "metadata": {},
     "output_type": "execute_result"
    }
   ],
   "source": [
    "nuclear_masks.shape"
   ]
  },
  {
   "cell_type": "code",
   "execution_count": 10,
   "metadata": {},
   "outputs": [
    {
     "data": {
      "text/plain": [
       "<Labels layer 'all_nuc_bin' at 0x1a67f45e070>"
      ]
     },
     "execution_count": 10,
     "metadata": {},
     "output_type": "execute_result"
    }
   ],
   "source": [
    "v = napari.Viewer()\n",
    "v.add_image(scen_marker)\n",
    "v.add_labels(nuc_bin)\n",
    "v.add_labels(all_nuc_bin)\n",
    "\n"
   ]
  },
  {
   "cell_type": "code",
   "execution_count": 11,
   "metadata": {},
   "outputs": [
    {
     "data": {
      "text/plain": [
       "<Labels layer 'scen_classified' at 0x1a680954850>"
      ]
     },
     "execution_count": 11,
     "metadata": {},
     "output_type": "execute_result"
    }
   ],
   "source": [
    "v.add_labels(scen_classified)"
   ]
  },
  {
   "cell_type": "code",
   "execution_count": 62,
   "metadata": {},
   "outputs": [
    {
     "ename": "IndexError",
     "evalue": "boolean index did not match indexed array along dimension 0; dimension is 3788 but corresponding boolean dimension is 3789",
     "output_type": "error",
     "traceback": [
      "\u001b[1;31m---------------------------------------------------------------------------\u001b[0m",
      "\u001b[1;31mIndexError\u001b[0m                                Traceback (most recent call last)",
      "Cell \u001b[1;32mIn[62], line 25\u001b[0m\n\u001b[0;32m     23\u001b[0m props \u001b[38;5;241m=\u001b[39m skimage\u001b[38;5;241m.\u001b[39mmeasure\u001b[38;5;241m.\u001b[39mregionprops(labs)\n\u001b[0;32m     24\u001b[0m \u001b[38;5;28;01mfor\u001b[39;00m prop \u001b[38;5;129;01min\u001b[39;00m props:\n\u001b[1;32m---> 25\u001b[0m     mean \u001b[38;5;241m=\u001b[39m np\u001b[38;5;241m.\u001b[39mmean(\u001b[43mmarker\u001b[49m\u001b[43m[\u001b[49m\u001b[43mlabs\u001b[49m\u001b[43m \u001b[49m\u001b[38;5;241;43m==\u001b[39;49m\u001b[43m \u001b[49m\u001b[43mprop\u001b[49m\u001b[43m[\u001b[49m\u001b[38;5;124;43m'\u001b[39;49m\u001b[38;5;124;43mlabel\u001b[39;49m\u001b[38;5;124;43m'\u001b[39;49m\u001b[43m]\u001b[49m\u001b[43m]\u001b[49m)\n\u001b[0;32m     26\u001b[0m     senescent_intensities\u001b[38;5;241m.\u001b[39mappend(mean)\n\u001b[0;32m     28\u001b[0m df \u001b[38;5;241m=\u001b[39m pd\u001b[38;5;241m.\u001b[39mDataFrame()\n",
      "\u001b[1;31mIndexError\u001b[0m: boolean index did not match indexed array along dimension 0; dimension is 3788 but corresponding boolean dimension is 3789"
     ]
    }
   ],
   "source": [
    "#measure the marker based on the nuclei\n",
    "\n",
    "folders = os.listdir(output_data_path)\n",
    "\n",
    "mask_paths = []\n",
    "raw_paths = []\n",
    "rawims = []\n",
    "\n",
    "for folder in folders:\n",
    "    rawims.append(folder)\n",
    "    files = os.listdir(output_data_path + os.path.sep + folder)\n",
    "    mask_paths.append(output_data_path + os.path.sep + folder + os.path.sep + files[0])    \n",
    "    raw_paths.append(output_data_path + os.path.sep + folder + os.path.sep + files[3])    \n",
    "\n",
    "\n",
    "# for raw_path, mask_path in zip(raw_paths, mask_paths):\n",
    "#     mask_im = skimage.io.imread(mask_path)\n",
    "#     raw_im = skimage.io.imread(raw_path)\n",
    "#     marker = raw_im[0,:,:,1]\n",
    "#     senescent_intensities = []\n",
    "\n",
    "#     labs = skimage.measure.label(mask_im)\n",
    "#     props = skimage.measure.regionprops(labs)\n",
    "#     for prop in props:\n",
    "#         mean = np.mean(marker[labs == prop['label']])\n",
    "#         senescent_intensities.append(mean)\n",
    "\n",
    "#     df = pd.DataFrame()\n",
    "#     df['senescent_intensities'] = senescent_intensities\n",
    "#     df.to_csv(output_data_path + os.path.sep + folder + os.path.sep + 'output.csv')\n",
    "\n",
    "    \n"
   ]
  },
  {
   "cell_type": "code",
   "execution_count": 82,
   "metadata": {},
   "outputs": [
    {
     "name": "stdout",
     "output_type": "stream",
     "text": [
      "Image1_B.czi\n",
      "saving ..\\output\\Image1_B.czi\\sum_proj.tif\n"
     ]
    },
    {
     "name": "stderr",
     "output_type": "stream",
     "text": [
      "C:\\Users\\damian.dalle\\AppData\\Local\\Temp\\ipykernel_18236\\3026749486.py:9: UserWarning: ..\\output\\Image1_B.czi\\sum_proj.tif is a low contrast image\n",
      "  skimage.io.imsave(path, sum_proj)\n"
     ]
    },
    {
     "name": "stdout",
     "output_type": "stream",
     "text": [
      "Image2_B.czi\n",
      "saving ..\\output\\Image2_B.czi\\sum_proj.tif\n"
     ]
    },
    {
     "name": "stderr",
     "output_type": "stream",
     "text": [
      "C:\\Users\\damian.dalle\\AppData\\Local\\Temp\\ipykernel_18236\\3026749486.py:9: UserWarning: ..\\output\\Image2_B.czi\\sum_proj.tif is a low contrast image\n",
      "  skimage.io.imsave(path, sum_proj)\n"
     ]
    },
    {
     "name": "stdout",
     "output_type": "stream",
     "text": [
      "Image3_B.czi\n",
      "saving ..\\output\\Image3_B.czi\\sum_proj.tif\n"
     ]
    },
    {
     "name": "stderr",
     "output_type": "stream",
     "text": [
      "C:\\Users\\damian.dalle\\AppData\\Local\\Temp\\ipykernel_18236\\3026749486.py:9: UserWarning: ..\\output\\Image3_B.czi\\sum_proj.tif is a low contrast image\n",
      "  skimage.io.imsave(path, sum_proj)\n"
     ]
    },
    {
     "name": "stdout",
     "output_type": "stream",
     "text": [
      "Image4_B.czi\n",
      "saving ..\\output\\Image4_B.czi\\sum_proj.tif\n"
     ]
    },
    {
     "name": "stderr",
     "output_type": "stream",
     "text": [
      "C:\\Users\\damian.dalle\\AppData\\Local\\Temp\\ipykernel_18236\\3026749486.py:9: UserWarning: ..\\output\\Image4_B.czi\\sum_proj.tif is a low contrast image\n",
      "  skimage.io.imsave(path, sum_proj)\n"
     ]
    },
    {
     "name": "stdout",
     "output_type": "stream",
     "text": [
      "Image5_B.czi\n",
      "saving ..\\output\\Image5_B.czi\\sum_proj.tif\n"
     ]
    },
    {
     "name": "stderr",
     "output_type": "stream",
     "text": [
      "C:\\Users\\damian.dalle\\AppData\\Local\\Temp\\ipykernel_18236\\3026749486.py:9: UserWarning: ..\\output\\Image5_B.czi\\sum_proj.tif is a low contrast image\n",
      "  skimage.io.imsave(path, sum_proj)\n"
     ]
    },
    {
     "name": "stdout",
     "output_type": "stream",
     "text": [
      "Image6_B.czi\n",
      "saving ..\\output\\Image6_B.czi\\sum_proj.tif\n"
     ]
    },
    {
     "name": "stderr",
     "output_type": "stream",
     "text": [
      "C:\\Users\\damian.dalle\\AppData\\Local\\Temp\\ipykernel_18236\\3026749486.py:9: UserWarning: ..\\output\\Image6_B.czi\\sum_proj.tif is a low contrast image\n",
      "  skimage.io.imsave(path, sum_proj)\n"
     ]
    }
   ],
   "source": [
    "raw_data = os.listdir(raw_data_path)\n",
    "for file in raw_data:\n",
    "    print(file)\n",
    "    img = AICSImage(raw_data_path + os.path.sep + file)\n",
    "    img = img.data\n",
    "    sum_proj = np.sum(img, axis=2)\n",
    "    path = os.path.join(output_data_path, file, 'sum_proj.tif')\n",
    "    print('saving ' + path)\n",
    "    skimage.io.imsave(path, sum_proj)\n"
   ]
  },
  {
   "cell_type": "code",
   "execution_count": 78,
   "metadata": {},
   "outputs": [
    {
     "data": {
      "text/plain": [
       "'..\\\\output\\\\Image6_B.czi\\\\sum_proj.tif'"
      ]
     },
     "execution_count": 78,
     "metadata": {},
     "output_type": "execute_result"
    }
   ],
   "source": [
    "path = os.path.join(output_data_path, file, 'sum_proj.tif')\n",
    "path"
   ]
  },
  {
   "cell_type": "code",
   "execution_count": 76,
   "metadata": {},
   "outputs": [
    {
     "data": {
      "text/plain": [
       "(1, 3, 25, 3789, 4710)"
      ]
     },
     "execution_count": 76,
     "metadata": {},
     "output_type": "execute_result"
    }
   ],
   "source": [
    "img.shape"
   ]
  },
  {
   "cell_type": "code",
   "execution_count": 74,
   "metadata": {},
   "outputs": [],
   "source": [
    "img = AICSImage(raw_data_path + os.path.sep + raw_data[0])\n",
    "img = img.data\n",
    "\n"
   ]
  },
  {
   "cell_type": "code",
   "execution_count": 66,
   "metadata": {},
   "outputs": [
    {
     "data": {
      "text/plain": [
       "(1, 3, 19, 3788, 4710)"
      ]
     },
     "execution_count": 66,
     "metadata": {},
     "output_type": "execute_result"
    }
   ],
   "source": [
    "img.shape"
   ]
  },
  {
   "cell_type": "code",
   "execution_count": 45,
   "metadata": {},
   "outputs": [
    {
     "data": {
      "text/plain": [
       "(1, 3788, 4710, 3)"
      ]
     },
     "execution_count": 45,
     "metadata": {},
     "output_type": "execute_result"
    }
   ],
   "source": [
    " DAPI = sum_proj[0,2,:,:]"
   ]
  },
  {
   "cell_type": "code",
   "execution_count": 55,
   "metadata": {},
   "outputs": [
    {
     "name": "stderr",
     "output_type": "stream",
     "text": [
      "WARNING: DirectWrite: CreateFontFaceFromHDC() failed (Indicates an error in an input file such as a font file.) for QFontDef(Family=\"\", pointsize=12, pixelsize=16, styleHint=5, weight=50, stretch=100, hintingPreference=0) LOGFONT(\"MS Sans Serif\", lfWidth=0, lfHeight=-16) dpi=96\n"
     ]
    },
    {
     "data": {
      "text/plain": [
       "<Image layer '2' at 0x2051f0ed4f0>"
      ]
     },
     "execution_count": 55,
     "metadata": {},
     "output_type": "execute_result"
    }
   ],
   "source": [
    "viewer = napari.Viewer()\n",
    "\n",
    "viewer.add_image(raw_im[:,:,:,0], name=\"0\")\n",
    "viewer.add_image(raw_im[:,:,:,1], name=\"1\")\n",
    "viewer.add_image(raw_im[:,:,:,2], name=\"2\")"
   ]
  }
 ],
 "metadata": {
  "kernelspec": {
   "display_name": "data_analysis",
   "language": "python",
   "name": "python3"
  },
  "language_info": {
   "codemirror_mode": {
    "name": "ipython",
    "version": 3
   },
   "file_extension": ".py",
   "mimetype": "text/x-python",
   "name": "python",
   "nbconvert_exporter": "python",
   "pygments_lexer": "ipython3",
   "version": "3.8.18"
  }
 },
 "nbformat": 4,
 "nbformat_minor": 2
}
